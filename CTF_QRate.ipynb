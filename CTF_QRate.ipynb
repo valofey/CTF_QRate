{
 "cells": [
  {
   "cell_type": "markdown",
   "source": [
    "# Задача на CTF от компании QRate\n",
    "**Категории**: криптография, стеганография\n",
    "\n",
    "**Материалы**: картинка vernam.jpeg (разрешение:800x800, вес: 55МБ)\n",
    "\n",
    "**Текст задачи**: Вам досталась редкая диковинка: портрет Гильберта Вернама, известного криптографа. Сможете ли вы разгадать его секрет?\n",
    "\n",
    "## Введение\n",
    "\n",
    "Так как QRate - это компания, которая занимается квантовой криптографией, мы хотели включить в задачу что-то связанное с нашей работой.\n",
    "\n",
    "Основная цель криптографии - это безопасная коммуникация, содержание которой остается в секрете. Для этого криптографы используют различные шифры и алгоритмы. Безопасность в них гарантируется сложностью и необычностью математики, используемой для шифрования.\n",
    "\n",
    "Квантовая криптография в противовес этому фокусируется не на самих шифрах, но на ключах, которые в них используются. Есть ряд довольно простых шифров, гарантирующих абсолютную невозможность взлома (даже с точки зрения теории). Единственное условие - наличие у Алисы и Боба одинакового истинно случайного ключа, который будет использован в процессе. Именно этого мы и добиваемся.\n",
    "\n",
    "Наиболее распространенный вариант такого шифрования - это шифр Вернама: ключ и сообщение складываются по модулю два сначала Алисой для шифровки, а затем Бобом для расшифровки. При этом, ключ может быть использован для шифрования только одной части сообщения одинаковой с ним длины. Именно нарушение этого правила делает возможной атаку, которую мы предлагаем участникам осуществить в нашей задаче.\n",
    "\n",
    "Почему же нельзя использовать ключ несколько раз? Дело в том, что многократное повторное использование секретного ключа дает возможность сделать частотный анализ. Злоумышленник (Ева) всё еще не знает, как расшифровать те или иные зашифрованные символы, но он может посчитать их количество в потоке информации, после чего определить язык сообщения. Сопоставив гистограмму частоты символов языка с полученной, Ева может расшифровать часть символов, вычислить с их помощью ключ, и узнать содержание всего сообщения.\n",
    "\n",
    "Поскольку созданная нами задача довольно сложна, в ней спрятаны дополнительные подсказки, которые могут ускорить и упростить решение.\n",
    "\n",
    "Карта задачи выглядит следующим образом:"
   ],
   "metadata": {
    "collapsed": false,
    "pycharm": {
     "name": "#%% md\n"
    }
   }
  },
  {
   "cell_type": "code",
   "execution_count": null,
   "outputs": [],
   "source": [
    "from ipywidgets import interact\n",
    "from PIL import Image\n",
    "import numpy as np"
   ],
   "metadata": {
    "collapsed": false,
    "pycharm": {
     "name": "#%%\n"
    }
   }
  },
  {
   "cell_type": "code",
   "execution_count": 122,
   "outputs": [
    {
     "data": {
      "text/plain": "interactive(children=(FloatSlider(value=0.5, description='saturation', max=1.0), Dropdown(description='mode', …",
      "application/vnd.jupyter.widget-view+json": {
       "version_major": 2,
       "version_minor": 0,
       "model_id": "33e0e8977c954056b45eee6a0fef8505"
      }
     },
     "metadata": {},
     "output_type": "display_data"
    }
   ],
   "source": [
    "initial_image = Image.open(\"vernam.jpeg\")\n",
    "initial_image_cropped = initial_image.crop((100, 625, 700, 775))\n",
    "initial_image_cropped = initial_image_cropped.resize((900,300))\n",
    "\n",
    "saturated_image = Image.open(\"vernam_saturated.png\")\n",
    "saturated_image_cropped = saturated_image.crop((100, 625, 700, 775))\n",
    "saturated_image_cropped = saturated_image_cropped.resize((900,300))\n",
    "\n",
    "saturated_blured_image = Image.open(\"vernam_saturated_blured.png\")\n",
    "saturated_blured_image_cropped = saturated_blured_image.crop((100, 625, 700, 775))\n",
    "saturated_blured_image_cropped = saturated_blured_image_cropped.resize((900,300))\n",
    "\n",
    "saturated_blured_image_cropped_array = np.array(saturated_blured_image_cropped)\n",
    "saturated_blured_image_cropped_array_HSV = np.array(saturated_blured_image_cropped.convert(\"HSV\"))\n",
    "\n",
    "@interact(saturation = (0.0, 1.0), mode = ['normal', 'isolate color'])\n",
    "def saturate_image(saturation, mode):\n",
    "\n",
    "    if(mode == 'normal'):\n",
    "        resulting_image = Image.blend(initial_image_cropped, saturated_image_cropped, saturation)\n",
    "        display(resulting_image)\n",
    "        \n",
    "    if(mode == 'isolate color'):\n",
    "        lower_mask = saturated_blured_image_cropped_array_HSV [:,:,2] >= 0\n",
    "        upper_mask = saturated_blured_image_cropped_array_HSV [:,:,2] <= 231\n",
    "        mask = upper_mask * lower_mask\n",
    "        red = saturated_blured_image_cropped_array[:,:,0]*mask\n",
    "        green = saturated_blured_image_cropped_array[:,:,1]*mask\n",
    "        blue = saturated_blured_image_cropped_array[:,:,2]*mask\n",
    "        isolated_mask = Image.fromarray(np.dstack((red,green,blue)))\n",
    "        resulting_image_masked = Image.blend(initial_image_cropped, isolated_mask, saturation/1.3)\n",
    "        display(resulting_image_masked)"
   ],
   "metadata": {
    "collapsed": false,
    "pycharm": {
     "name": "#%%\n"
    }
   }
  },
  {
   "cell_type": "code",
   "execution_count": 9,
   "outputs": [
    {
     "name": "stdout",
     "output_type": "stream",
     "text": [
      "01100010001001100010011001100110100101100110100101101001100110011001001000101001001010011001100110010010001010010010100110011001011001110111011001110110011001100110001000100110011000100110001010010110011010011001011010010110100100100010100110010010100100101001001000101001100100101001001001100111011101100110011101100111011000100010011000100010011001101001011001101001011001101001100110010010001010010010001010011001100100100010100100100010100110010110011101110110011101110110011001100010001001100010001001100110100101100110100101100110100110011001001000101001001000101001100110010010001010010010001010011001011001110111011001110111011001100110001000100110001000100010001010010110011010010110011001100110100100100010100100100010001000101001001000101001001000100010001001100111011101100111011101110111\n"
     ]
    }
   ],
   "source": [
    "key = 'mctf{try_using_QRNG}'\n",
    "\n",
    "def string_to_binary_utf8(message):\n",
    "    return ''.join('0' + format(ord(letter), 'b') for letter in message)\n",
    "\n",
    "def binary_utf8_to_string(message):\n",
    "    return ''.join(chr(int(eightbits, 2)) for eightbits in [message[window:window + 8] for window in range(0, len(message), 8)])\n",
    "\n",
    "def binary_utf8_to_binary_pixels(message):\n",
    "    numbers = [['0110', '1001', '1001', '1001', '0110'], ['0010', '0110', '0010', '0010', '0111']]\n",
    "    return ''.join(list((numbers[message[counter%8] == '1'][counter//8] for counter in range (40))))\n",
    "\n",
    "def string_to_binary_pixels(message):\n",
    "    return ''.join(binary_utf8_to_binary_pixels(string_to_binary_utf8(x)) for x in message)\n",
    "\n",
    "\n",
    "\n",
    "print(string_to_binary_pixels('hello'))"
   ],
   "metadata": {
    "collapsed": false,
    "pycharm": {
     "name": "#%%\n"
    }
   }
  },
  {
   "cell_type": "code",
   "execution_count": null,
   "outputs": [],
   "source": [],
   "metadata": {
    "collapsed": false,
    "pycharm": {
     "name": "#%%\n"
    }
   }
  }
 ],
 "metadata": {
  "kernelspec": {
   "display_name": "Python 3 (ipykernel)",
   "language": "python",
   "name": "python3"
  },
  "language_info": {
   "codemirror_mode": {
    "name": "ipython",
    "version": 3
   },
   "file_extension": ".py",
   "mimetype": "text/x-python",
   "name": "python",
   "nbconvert_exporter": "python",
   "pygments_lexer": "ipython3",
   "version": "3.9.12"
  }
 },
 "nbformat": 4,
 "nbformat_minor": 1
}