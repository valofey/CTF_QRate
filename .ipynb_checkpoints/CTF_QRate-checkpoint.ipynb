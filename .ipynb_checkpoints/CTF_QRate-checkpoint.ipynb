{
 "cells": [
  {
   "cell_type": "markdown",
   "metadata": {
    "pycharm": {
     "name": "#%% md\n"
    }
   },
   "source": [
    "# Задача на CTF от компании QRate\n",
    "**Категории**: криптография, стеганография\n",
    "\n",
    "**Материалы**: картинка vernam.jpeg (разрешение:800x800, вес: 55МБ)\n",
    "\n",
    "**Текст задачи**: Вам досталась редкая диковинка: портрет Гильберта Вернама, известного криптографа. Сможете ли вы разгадать его секрет?\n",
    "\n",
    "## Введение\n",
    "\n",
    "Так как QRate - это компания, которая занимается квантовой криптографией, мы хотели включить в задачу что-то связанное с нашей работой.\n",
    "\n",
    "Основная цель криптографии - это безопасная коммуникация, содержание которой остается в секрете. Для этого криптографы используют различные шифры и алгоритмы. Безопасность в них гарантируется сложностью и необычностью математики, используемой для шифрования.\n",
    "\n",
    "Квантовая криптография в противовес этому фокусируется не на самих шифрах, но на ключах, которые в них используются. Есть ряд довольно простых шифров, гарантирующих абсолютную невозможность взлома (даже с точки зрения теории). Единственное условие - наличие у Алисы и Боба одинакового истинно случайного ключа, который будет использован в процессе. Именно этого мы и добиваемся.\n",
    "\n",
    "Наиболее распространенный вариант такого шифрования - это шифр Вернама: ключ и сообщение складываются по модулю два сначала Алисой для шифровки, а затем Бобом для расшифровки. При этом, ключ может быть использован для шифрования только одной части сообщения одинаковой с ним длины. Именно нарушение этого правила делает возможной атаку, которую мы предлагаем участникам осуществить в нашей задаче.\n",
    "\n",
    "Почему же нельзя использовать ключ несколько раз? Дело в том, что многократное повторное использование секретного ключа дает возможность сделать частотный анализ. Злоумышленник (Ева) всё еще не знает, как расшифровать те или иные зашифрованные символы, но он может посчитать их количество в потоке информации, после чего определить язык сообщения. Сопоставив гистограмму частоты символов языка с полученной, Ева может расшифровать часть символов, вычислить с их помощью ключ, и узнать содержание всего сообщения.\n",
    "\n",
    "Поскольку созданная нами задача довольно сложна, в ней спрятаны дополнительные подсказки, которые могут ускорить и упростить решение.\n",
    "\n",
    "Карта задачи выглядит следующим образом:"
   ]
  },
  {
   "cell_type": "code",
   "execution_count": 7,
   "metadata": {
    "pycharm": {
     "name": "#%%\n"
    }
   },
   "outputs": [],
   "source": [
    "from ipywidgets import interact\n",
    "from PIL import Image\n",
    "import numpy as np"
   ]
  },
  {
   "cell_type": "code",
   "execution_count": 10,
   "metadata": {
    "pycharm": {
     "name": "#%%\n"
    }
   },
   "outputs": [
    {
     "data": {
      "application/vnd.jupyter.widget-view+json": {
       "model_id": "d9484440e5464c588ea2386e4b46bf24",
       "version_major": 2,
       "version_minor": 0
      },
      "text/plain": [
       "interactive(children=(Dropdown(description='mode', options=('normal', 'isolate color'), value='normal'), Float…"
      ]
     },
     "metadata": {},
     "output_type": "display_data"
    }
   ],
   "source": [
    "initial_image = Image.open(\"vernam.jpeg\")\n",
    "initial_image_cropped = initial_image.crop((100, 625, 700, 775))\n",
    "initial_image_cropped = initial_image_cropped.resize((900,300))\n",
    "\n",
    "saturated_image = Image.open(\"vernam_saturated.png\")\n",
    "saturated_image_cropped = saturated_image.crop((100, 625, 700, 775))\n",
    "saturated_image_cropped = saturated_image_cropped.resize((900,300))\n",
    "\n",
    "saturated_blured_image = Image.open(\"vernam_saturated_blured.png\")\n",
    "saturated_blured_image_cropped = saturated_blured_image.crop((100, 625, 700, 775))\n",
    "saturated_blured_image_cropped = saturated_blured_image_cropped.resize((900,300))\n",
    "\n",
    "saturated_blured_image_cropped_array = np.array(saturated_blured_image_cropped)\n",
    "saturated_blured_image_cropped_array_HSV = np.array(saturated_blured_image_cropped.convert(\"HSV\"))\n",
    "\n",
    "@interact(saturation = (0.0, 1.0), mode = ['normal', 'isolate color'])\n",
    "def saturate_image(mode, saturation = 0):\n",
    "\n",
    "    if(mode == 'normal'):\n",
    "        resulting_image = Image.blend(initial_image_cropped, saturated_image_cropped, saturation)\n",
    "        display(resulting_image)\n",
    "        \n",
    "    if(mode == 'isolate color'):\n",
    "        lower_mask = saturated_blured_image_cropped_array_HSV [:,:,2] >= 0\n",
    "        upper_mask = saturated_blured_image_cropped_array_HSV [:,:,2] <= 231\n",
    "        mask = upper_mask * lower_mask\n",
    "        red = saturated_blured_image_cropped_array[:,:,0]*mask\n",
    "        green = saturated_blured_image_cropped_array[:,:,1]*mask\n",
    "        blue = saturated_blured_image_cropped_array[:,:,2]*mask\n",
    "        green_mask = Image.fromarray(np.dstack((red,green,blue)))\n",
    "        resulting_image_green = Image.blend(initial_image_cropped, green_mask, saturation/1.3)\n",
    "        display(resulting_image_green)"
   ]
  },
  {
   "cell_type": "code",
   "execution_count": null,
   "metadata": {
    "pycharm": {
     "name": "#%%\n"
    }
   },
   "outputs": [],
   "source": []
  }
 ],
 "metadata": {
  "kernelspec": {
   "display_name": "Python 3 (ipykernel)",
   "language": "python",
   "name": "python3"
  },
  "language_info": {
   "codemirror_mode": {
    "name": "ipython",
    "version": 3
   },
   "file_extension": ".py",
   "mimetype": "text/x-python",
   "name": "python",
   "nbconvert_exporter": "python",
   "pygments_lexer": "ipython3",
   "version": "3.9.12"
  }
 },
 "nbformat": 4,
 "nbformat_minor": 1
}
