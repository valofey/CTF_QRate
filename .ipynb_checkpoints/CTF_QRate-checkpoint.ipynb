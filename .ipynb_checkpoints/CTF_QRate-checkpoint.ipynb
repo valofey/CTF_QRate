{
 "cells": [
  {
   "cell_type": "markdown",
   "metadata": {
    "pycharm": {
     "name": "#%% md\n"
    }
   },
   "source": [
    "# Задача на CTF от компании QRate\n",
    "**Категории**: криптография, стеганография\n",
    "\n",
    "**Материалы**: картинка vernam.jpeg (разрешение:800x800, вес: 55МБ)\n",
    "\n",
    "**Текст задачи**: Вам досталась редкая диковинка: портрет Гильберта Вернама, известного криптографа. Сможете ли вы разгадать его секрет?\n",
    "\n",
    "## Введение\n",
    "\n",
    "Так как QRate - это компания, которая занимается квантовой криптографией, мы хотели включить в задачу что-то связанное с нашей работой.\n",
    "\n",
    "Основная цель криптографии - это безопасная коммуникация, содержание которой остается в секрете. Для этого криптографы используют различные шифры и алгоритмы. Безопасность в них гарантируется сложностью и необычностью математики, используемой для шифрования.\n",
    "\n",
    "Квантовая криптография в противовес этому фокусируется не на самих шифрах, но на ключах, которые в них используются. Есть ряд довольно простых шифров, гарантирующих абсолютную невозможность взлома (даже с точки зрения теории). Единственное условие - наличие у Алисы и Боба одинакового истинно случайного ключа, который будет использован в процессе. Именно этого мы и добиваемся.\n",
    "\n",
    "Наиболее распространенный вариант такого шифрования - это шифр Вернама: ключ и сообщение складываются по модулю два сначала Алисой для шифровки, а затем Бобом для расшифровки. При этом, ключ может быть использован для шифрования только одной части сообщения одинаковой с ним длины. Именно нарушение этого правила делает возможной атаку, которую мы предлагаем участникам осуществить в нашей задаче.\n",
    "\n",
    "Почему же нельзя использовать ключ несколько раз? Дело в том, что многократное повторное использование секретного ключа дает возможность сделать частотный анализ. Злоумышленник (Ева) всё еще не знает, как расшифровать те или иные зашифрованные символы, но он может посчитать их количество в потоке информации, после чего определить язык сообщения. Сопоставив гистограмму частоты символов языка с полученной, Ева может расшифровать часть символов, вычислить с их помощью ключ, и узнать содержание всего сообщения.\n",
    "\n",
    "Поскольку созданная нами задача довольно сложна, в ней спрятаны дополнительные подсказки, которые могут ускорить и упростить решение.\n",
    "\n",
    "Карта задачи выглядит следующим образом:"
   ]
  },
  {
   "cell_type": "code",
   "execution_count": 13,
   "metadata": {
    "pycharm": {
     "is_executing": true,
     "name": "#%%\n"
    }
   },
   "outputs": [],
   "source": [
    "from ipywidgets import interact\n",
    "from PIL import Image\n",
    "from collections import Counter\n",
    "import numpy as np\n",
    "from matplotlib import pyplot as plt"
   ]
  },
  {
   "cell_type": "code",
   "execution_count": 14,
   "metadata": {
    "pycharm": {
     "name": "#%%\n"
    }
   },
   "outputs": [
    {
     "data": {
      "application/vnd.jupyter.widget-view+json": {
       "model_id": "95fca57d8c0d4291b662b498a5118f90",
       "version_major": 2,
       "version_minor": 0
      },
      "text/plain": [
       "interactive(children=(FloatSlider(value=0.5, description='saturation', max=1.0), Dropdown(description='mode', …"
      ]
     },
     "metadata": {},
     "output_type": "display_data"
    }
   ],
   "source": [
    "initial_image = Image.open(\"vernam.jpeg\")\n",
    "initial_image_cropped = initial_image.crop((100, 625, 700, 775))\n",
    "initial_image_cropped = initial_image_cropped.resize((900,300))\n",
    "\n",
    "saturated_image = Image.open(\"vernam_saturated.png\")\n",
    "saturated_image_cropped = saturated_image.crop((100, 625, 700, 775))\n",
    "saturated_image_cropped = saturated_image_cropped.resize((900,300))\n",
    "\n",
    "saturated_blured_image = Image.open(\"vernam_saturated_blured.png\")\n",
    "saturated_blured_image_cropped = saturated_blured_image.crop((100, 625, 700, 775))\n",
    "saturated_blured_image_cropped = saturated_blured_image_cropped.resize((900,300))\n",
    "\n",
    "saturated_blured_image_cropped_array = np.array(saturated_blured_image_cropped)\n",
    "saturated_blured_image_cropped_array_HSV = np.array(saturated_blured_image_cropped.convert(\"HSV\"))\n",
    "\n",
    "@interact(saturation = (0.0, 1.0), mode = ['normal', 'isolate color'])\n",
    "def saturate_image(saturation, mode):\n",
    "\n",
    "    if mode == 'normal':\n",
    "        resulting_image = Image.blend(initial_image_cropped, saturated_image_cropped, saturation)\n",
    "        display(resulting_image)\n",
    "        \n",
    "    if mode == 'isolate color':\n",
    "        lower_mask = saturated_blured_image_cropped_array_HSV [:,:,2] >= 0\n",
    "        upper_mask = saturated_blured_image_cropped_array_HSV [:,:,2] <= 231\n",
    "        mask = upper_mask * lower_mask\n",
    "        red = saturated_blured_image_cropped_array[:,:,0]*mask\n",
    "        green = saturated_blured_image_cropped_array[:,:,1]*mask\n",
    "        blue = saturated_blured_image_cropped_array[:,:,2]*mask\n",
    "        isolated_mask = Image.fromarray(np.dstack((red,green,blue)))\n",
    "        resulting_image_masked = Image.blend(initial_image_cropped, isolated_mask, saturation/1.3)\n",
    "        display(resulting_image_masked)"
   ]
  },
  {
   "cell_type": "code",
   "execution_count": 15,
   "metadata": {
    "pycharm": {
     "is_executing": true,
     "name": "#%%\n"
    }
   },
   "outputs": [],
   "source": [
    "key = 'mctf{try_using_QRNG}'\n",
    "\n",
    "def string_to_binary_utf8(message):\n",
    "    return ''.join(str(format(ord(letter), '08b')) for letter in message)\n",
    "\n",
    "def binary_utf8_to_string(message):\n",
    "    return ''.join(chr(int(eightbits, 2)) for eightbits in [message[window:window + 8] for window in range(0, len(message), 8)])\n",
    "\n",
    "def binary_utf8_to_binary_pixels(message):\n",
    "    numbers = [['0110', '1001', '1001', '1001', '0110'], ['0010', '0110', '0010', '0010', '0111']]\n",
    "    return ''.join(list((numbers[message[counter%8] == '1'][counter//8] for counter in range (40))))\n",
    "\n",
    "def string_to_binary_pixels(message):\n",
    "    return ''.join(binary_utf8_to_binary_pixels(string_to_binary_utf8(x)) for x in message)\n",
    "\n",
    "def xor_with_key(key, message):\n",
    "    return ''.join(str(int(key[counter%len(key)]==message[counter])) for counter in range(len(message)))\n",
    "\n",
    "def binary_pixels_to_char(symbol):\n",
    "    return binary_utf8_to_string(''.join(symbol[counter*4+33] for counter in range(8)))\n",
    "\n",
    "def binary_pixels_to_string(message):\n",
    "    return ''.join(binary_pixels_to_char(symbol) for symbol in [message[window:window + 160] for window in range(0, len(message), 160)])"
   ]
  },
  {
   "cell_type": "code",
   "execution_count": 16,
   "metadata": {
    "pycharm": {
     "name": "#%%\n"
    }
   },
   "outputs": [
    {
     "name": "stdout",
     "output_type": "stream",
     "text": [
      "Counter({' ': 45227, 'e': 27095, 't': 21606, 'o': 16918, 'a': 15831, 'n': 15572, 'i': 15560, 's': 14499, 'r': 11198, 'h': 10946, 'l': 9482, 'c': 7966, 'u': 6433, 'd': 6091, 'm': 5411, 'p': 4811, 'y': 4197, 'f': 4054, 'w': 3450, 'b': 3404, 'g': 3053, ',': 2700, '.': 2100, 'v': 1865, 'x': 901, '\\n': 890, 'k': 889, 'B': 809, \"'\": 698, 'A': 626, 'q': 606, 'T': 517, 'I': 511, 'j': 265, 'W': 185, '-': 178, 'S': 177, '1': 177, '?': 164, ')': 162, '(': 158, '0': 153, 'E': 144, 'N': 142, 'C': 128, 'H': 116, 'F': 114, '=': 108, 'P': 96, 'O': 91, '3': 88, ':': 84, '4': 84, '9': 75, '!': 67, 'L': 64, '\"': 55, 'R': 54, '2': 54, 'M': 48, 'G': 47, 'D': 47, 'z': 37, 'Q': 37, 'U': 36, '5': 31, '8': 28, 'J': 24, '+': 21, '7': 20, '*': 18, '/': 17, '|': 17, '6': 16, '_': 15, 'Y': 10, 'V': 6, '[': 6, ']': 6, '%': 4, 'K': 3, '^': 2, 'Z': 2, '<': 1})\n"
     ]
    },
    {
     "data": {
      "image/png": "[encoded data removed]",
      "text/plain": [
       "<Figure size 1440x720 with 1 Axes>"
      ]
     },
     "metadata": {
      "needs_background": "light"
     },
     "output_type": "display_data"
    }
   ],
   "source": [
    "f = open(\"quantum_chance_eng.txt\", \"r\")\n",
    "#w = open(\"new_file.txt\", \"w\")\n",
    "#w.write(binary_utf8_to_string(f.read()))\n",
    "#print(binary_utf8_to_string(f.read()))\n",
    "text = f.read()\n",
    "print(Counter(text))\n",
    "\n",
    "plt.rcParams[\"figure.figsize\"] = [20, 10]\n",
    "plt.rcParams[\"figure.autolayout\"] = True\n",
    "d = Counter(text)\n",
    "d[\"/n\"] = d.pop('\\n')\n",
    "d_filtered = d.most_common()\n",
    "a = list((x[0] for x in d_filtered))\n",
    "b = list((x[1]/sum(list(x[1] for x in d_filtered)) for x in d_filtered))\n",
    "plt.bar(a, b)\n",
    "plt.show()"
   ]
  },
  {
   "cell_type": "code",
   "execution_count": 17,
   "metadata": {
    "pycharm": {
     "name": "#%%\n"
    }
   },
   "outputs": [
    {
     "data": {
      "application/vnd.jupyter.widget-view+json": {
       "model_id": "74463c4fb9f244a0960256e5e005d332",
       "version_major": 2,
       "version_minor": 0
      },
      "text/plain": [
       "interactive(children=(Dropdown(description='language', options=('english', 'french', 'german', 'italian'), val…"
      ]
     },
     "metadata": {},
     "output_type": "display_data"
    }
   ],
   "source": [
    "letter_frequency_english_raw  = {'e': 12.7, 't': 9.06, 'a': 8.17, 'o': 7.51, 'i': 6.97, 'n': 6.75, 's': 6.33, 'h': 6.09,\n",
    "                    'r': 5.99, 'd': 4.25, 'l': 4.03, 'c': 2.78, 'u': 2.76, 'm': 2.41, 'w': 2.36, 'f': 2.23,\n",
    "                    'g': 2.02, 'y': 1.97, 'p': 1.93, 'b': 1.29, 'v': 0.98, 'k': 0.77, 'j': 0.15, 'x': 0.15,\n",
    "                    'q': 0.10, 'z': 0.07}\n",
    "\n",
    "letter_frequency_french_raw = {'e': 17.3, 'p': 3.0, 'a': 8.4, 'g': 1.3, 's': 8.1, 'v': 1.3, 'i': 7.3, 'b': 1.1, 'n': 7.1,\n",
    "                    'f': 1.1, 't': 7.1, 'q': 1.0, 'r': 6.6, 'h': 0.9, 'l': 6.0, 'x': 0.4, 'u': 5.7, 'j': 0.3,\n",
    "                    'o': 5.3, 'y': 0.3, 'd': 4.2, 'k': 0.1, 'c': 3.0, 'w': 0.1, 'm': 3.0, 'z': 0.1}\n",
    "\n",
    "letter_frequency_german_raw = {'e': 16.93, 'n': 10.53, 'i': 8.02, 'r': 6.89, 's': 6.42, 't': 5.79, 'a': 6.12, 'd': 4.98,\n",
    "                    'h': 4.98, 'u': 4.48, 'l': 3.60, 'c': 3.16, 'g': 3.02, 'm': 2.55, 'o': 2.54, 'b': 2.33, 'w': 1.78,\n",
    "                    'f': 1.49, 'k': 1.32, 'z': 1.21, 'v': 0.84, 'p': 0.67, 'j': 0.24, 'x': 0.05, 'y': 0.05, 'q': 0.02}\n",
    "\n",
    "\n",
    "letter_frequency_italian_raw = {'e': 11.97, 't': 6.97, 'a': 11.00, 'o': 10.08, 'i': 10.27, 'n': 7.02, 's': 5.48, 'h': 1.43,\n",
    "                                'r': 6.19, 'd': 3.39, 'l': 5.70, 'c': 4.30, 'u': 3.28, 'm': 2.87, 'w': 2.36, 'f': 1.01,\n",
    "                                'g': 1.65, 'y': 1.97, 'p': 2.96, 'b': 1.05, 'v': 1.75, 'k': 0.77, 'j': 0.15, 'x': 0.15,\n",
    "                                'q': 0.45, 'z': 0.85}\n",
    "\n",
    "def is_letter(letter):\n",
    "    return (ord(letter) >= ord('a')) & (ord(letter) <= ord('z'))\n",
    "\n",
    "@interact(language = ['english', 'french', 'german', 'italian'])\n",
    "def compare_frequencies_graph(language):\n",
    "    languages = {'english': letter_frequency_english_raw, 'french': letter_frequency_french_raw, 'german': letter_frequency_german_raw, 'italian': letter_frequency_italian_raw}\n",
    "    language_frequencies = dict(sorted(languages[language].items(), key=lambda item: item[1],  reverse=True))\n",
    "    a2 = list(language_frequencies.keys())\n",
    "    b2 = list(d[x]/sum(list(d[x] for x in a2)) for x in a2)\n",
    "    c2 = list(language_frequencies[x]/sum(list(language_frequencies[x] for x in a2)) for x in a2)\n",
    "\n",
    "    error = sum((c2[x]-b2[x])**2 for x in range(len(language_frequencies))) * 100\n",
    "\n",
    "    x_axis = np.arange(len(a2))\n",
    "    plt.bar(x_axis - 0.2, c2, 0.4)\n",
    "    plt.bar(x_axis + 0.2, b2, 0.4)\n",
    "    plt.xticks(x_axis, a2)\n",
    "    plt.show()\n",
    "\n",
    "    print('error: ' + str(error))"
   ]
  },
  {
   "cell_type": "code",
   "execution_count": 18,
   "metadata": {
    "pycharm": {
     "name": "#%%\n"
    }
   },
   "outputs": [
    {
     "name": "stdout",
     "output_type": "stream",
     "text": [
      "43135680\n"
     ]
    }
   ],
   "source": [
    "ciphered_text = xor_with_key(string_to_binary_utf8(key), string_to_binary_pixels(text))\n",
    "print(len(ciphered_text))\n",
    "print(le)"
   ]
  },
  {
   "cell_type": "code",
   "execution_count": 19,
   "metadata": {
    "pycharm": {
     "name": "#%%\n"
    }
   },
   "outputs": [
    {
     "name": "stderr",
     "output_type": "stream",
     "text": [
      "IOPub data rate exceeded.\n",
      "The notebook server will temporarily stop sending output\n",
      "to the client in order to avoid crashing it.\n",
      "To change this limit, set the config variable\n",
      "`--NotebookApp.iopub_data_rate_limit`.\n",
      "\n",
      "Current values:\n",
      "NotebookApp.iopub_data_rate_limit=1000000.0 (bytes/sec)\n",
      "NotebookApp.rate_limit_window=3.0 (secs)\n",
      "\n"
     ]
    }
   ],
   "source": []
  },
  {
   "cell_type": "code",
   "execution_count": null,
   "metadata": {
    "pycharm": {
     "name": "#%%\n"
    }
   },
   "outputs": [],
   "source": []
  }
 ],
 "metadata": {
  "kernelspec": {
   "display_name": "Python 3 (ipykernel)",
   "language": "python",
   "name": "python3"
  },
  "language_info": {
   "codemirror_mode": {
    "name": "ipython",
    "version": 3
   },
   "file_extension": ".py",
   "mimetype": "text/x-python",
   "name": "python",
   "nbconvert_exporter": "python",
   "pygments_lexer": "ipython3",
   "version": "3.9.12"
  }
 },
 "nbformat": 4,
 "nbformat_minor": 1
}
